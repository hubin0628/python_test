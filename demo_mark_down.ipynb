{
  "nbformat": 4,
  "nbformat_minor": 0,
  "metadata": {
    "colab": {
      "name": "Untitled0.ipynb",
      "version": "0.3.2",
      "provenance": [],
      "include_colab_link": true
    },
    "kernelspec": {
      "name": "python3",
      "display_name": "Python 3"
    }
  },
  "cells": [
    {
      "cell_type": "markdown",
      "metadata": {
        "id": "view-in-github",
        "colab_type": "text"
      },
      "source": [
        "<a href=\"https://colab.research.google.com/github/hubin0628/python_test/blob/master/demo_mark_down.ipynb\" target=\"_parent\"><img src=\"https://colab.research.google.com/assets/colab-badge.svg\" alt=\"Open In Colab\"/></a>"
      ]
    },
    {
      "metadata": {
        "id": "jiA0XCpUm32u",
        "colab_type": "code",
        "colab": {
          "base_uri": "https://localhost:8080/",
          "height": 336
        },
        "outputId": "dbcbb8d9-3da6-4b28-fb4f-6c91a6009927"
      },
      "cell_type": "code",
      "source": [
        "from IPython.display import HTML\n",
        "\n",
        "# Youtube\n",
        "HTML('<iframe width=\"560\" height=\"315\" src=\"https://www.youtube.com/embed/S_f2qV2_U00?rel=0&amp;controls=0&amp;showinfo=0\" frameborder=\"0\" allowfullscreen></iframe>')"
      ],
      "execution_count": 1,
      "outputs": [
        {
          "output_type": "execute_result",
          "data": {
            "text/html": [
              "<iframe width=\"560\" height=\"315\" src=\"https://www.youtube.com/embed/S_f2qV2_U00?rel=0&amp;controls=0&amp;showinfo=0\" frameborder=\"0\" allowfullscreen></iframe>"
            ],
            "text/plain": [
              "<IPython.core.display.HTML object>"
            ]
          },
          "metadata": {
            "tags": []
          },
          "execution_count": 1
        }
      ]
    },
    {
      "metadata": {
        "id": "rfBKyJ8Wm4mE",
        "colab_type": "text"
      },
      "cell_type": "markdown",
      "source": [
        "Examples of markdown text with tags repeated, escaped the second time, to clarify their function:\n",
        "\n",
        "##### \\#\\#\\#\\#\\#This text is treated as an <h5> because it has five hashes at the beginning\n",
        "\n",
        "\\**italics*\\* and \\__italics_\\_\n",
        "\n",
        "**\\*\\*bold\\*\\***\n",
        "\n",
        "\\~\\~~~strikethrough~~\\~\\~\n",
        "\n",
        "\\``monospace`\\`\n",
        "\n",
        "No indent\n",
        ">\\>One level of indentation\n",
        ">>\\>\\>Two levels of indentation\n",
        "\n",
        "An ordered list:\n",
        "1. 1\\. One\n",
        "1. 1\\. Two\n",
        "1. 1\\. Three\n",
        "\n",
        "An unordered list:\n",
        "* \\* One\n",
        "* \\* Two\n",
        "* \\* Three\n",
        "\n",
        "A naked URL: https://google.com\n",
        "\n",
        "Linked URL: \\[[Colaboratory](https://research.google.com/colaboratory)]\\(https://research.google.com/colaboratory)\n",
        "\n",
        "A linked URL using references:\n",
        "\n",
        ">\\[[Colaboratory][colaboratory-label]]\\[colaboratory-label]\n",
        "\n",
        ">\\[colaboratory-label]: https://research.google.com/colaboratory\n",
        "[colaboratory-label]: https://research.google.com/colaboratory\n",
        "\n",
        "An inline image: !\\[Google's logo](https://www.google.com/images/logos/google_logo_41.png)\n",
        ">![Google's logo](https://www.google.com/images/logos/google_logo_41.png)\n",
        "\n",
        "Equations:\n",
        "\n",
        ">$y=x^2$\n",
        "\n",
        ">$e^{i\\pi} + 1 = 0$\n",
        "\n",
        ">$e^x=\\sum_{i=0}^\\infty \\frac{1}{i!}x^i$\n",
        "\n",
        ">$\\frac{n!}{k!(n-k)!} = {n \\choose k}$\n",
        "\n",
        ">$A_{m,n} =\n",
        " \\begin{pmatrix}\n",
        "  a_{1,1} & a_{1,2} & \\cdots & a_{1,n} \\\\\n",
        "  a_{2,1} & a_{2,2} & \\cdots & a_{2,n} \\\\\n",
        "  \\vdots  & \\vdots  & \\ddots & \\vdots  \\\\\n",
        "  a_{m,1} & a_{m,2} & \\cdots & a_{m,n}\n",
        " \\end{pmatrix}$\n",
        "\n",
        "Tables:\n",
        ">```\n",
        "First column name | Second column name\n",
        "--- | ---\n",
        "Row 1, Col 1 | Row 1, Col 2\n",
        "Row 2, Col 1 | Row 2, Col 2\n",
        "```\n",
        "\n",
        "becomes:\n",
        "\n",
        ">First column name | Second column name\n",
        ">--- | ---\n",
        ">Row 1, Col 1 | Row 1, Col 2\n",
        ">Row 2, Col 1 | Row 2, Col 2\n",
        "\n",
        "Horizontal rule done with three dashes (\\-\\-\\-):\n",
        "\n",
        "---\n"
      ]
    }
  ]
}