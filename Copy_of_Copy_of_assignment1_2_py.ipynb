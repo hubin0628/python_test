{
  "nbformat": 4,
  "nbformat_minor": 0,
  "metadata": {
    "colab": {
      "name": "Copy of Copy of assignment1_2.py.ipynb",
      "version": "0.3.2",
      "provenance": [],
      "include_colab_link": true
    },
    "kernelspec": {
      "display_name": "Python 3",
      "language": "python",
      "name": "python3"
    }
  },
  "cells": [
    {
      "cell_type": "markdown",
      "metadata": {
        "id": "view-in-github",
        "colab_type": "text"
      },
      "source": [
        "<a href=\"https://colab.research.google.com/github/hubin0628/python_test/blob/master/Copy_of_Copy_of_assignment1_2_py.ipynb\" target=\"_parent\"><img src=\"https://colab.research.google.com/assets/colab-badge.svg\" alt=\"Open In Colab\"/></a>"
      ]
    },
    {
      "metadata": {
        "id": "1XqC39jRe4tD",
        "colab_type": "code",
        "colab": {}
      },
      "cell_type": "code",
      "source": [
        "message='I am a Chinese girl'"
      ],
      "execution_count": 0,
      "outputs": []
    },
    {
      "metadata": {
        "id": "Vw8v91AKe4tK",
        "colab_type": "code",
        "colab": {}
      },
      "cell_type": "code",
      "source": [
        "m=7"
      ],
      "execution_count": 0,
      "outputs": []
    },
    {
      "metadata": {
        "id": "wDO67euie4tO",
        "colab_type": "code",
        "colab": {}
      },
      "cell_type": "code",
      "source": [
        "ui=4.516789"
      ],
      "execution_count": 0,
      "outputs": []
    },
    {
      "metadata": {
        "id": "lHBuTJ-oe4tS",
        "colab_type": "code",
        "colab": {}
      },
      "cell_type": "code",
      "source": [
        "inch=16.723"
      ],
      "execution_count": 0,
      "outputs": []
    },
    {
      "metadata": {
        "id": "7TyvgO2Xe4tV",
        "colab_type": "code",
        "outputId": "8357a2a4-95fc-4180-af3c-d91cd6e6c3f9",
        "colab": {}
      },
      "cell_type": "code",
      "source": [
        "inch*1.41"
      ],
      "execution_count": 0,
      "outputs": [
        {
          "output_type": "execute_result",
          "data": {
            "text/plain": [
              "23.57943"
            ]
          },
          "metadata": {
            "tags": []
          },
          "execution_count": 21
        }
      ]
    },
    {
      "metadata": {
        "id": "VCMH48jke4td",
        "colab_type": "code",
        "colab": {}
      },
      "cell_type": "code",
      "source": [
        "first='lemon'"
      ],
      "execution_count": 0,
      "outputs": []
    },
    {
      "metadata": {
        "id": "oae_aSute4tg",
        "colab_type": "code",
        "colab": {}
      },
      "cell_type": "code",
      "source": [
        "second='pie'"
      ],
      "execution_count": 0,
      "outputs": []
    },
    {
      "metadata": {
        "id": "eYBaJt_Ge4tl",
        "colab_type": "code",
        "outputId": "d1748cb0-e954-44ae-f21c-939ebd5acaf2",
        "colab": {}
      },
      "cell_type": "code",
      "source": [
        "first+second"
      ],
      "execution_count": 0,
      "outputs": [
        {
          "output_type": "execute_result",
          "data": {
            "text/plain": [
              "'lemonpie'"
            ]
          },
          "metadata": {
            "tags": []
          },
          "execution_count": 24
        }
      ]
    },
    {
      "metadata": {
        "id": "7nuiJgGwe4tv",
        "colab_type": "code",
        "outputId": "2d6d9d12-9032-4f66-f99a-93db79791dcc",
        "colab": {}
      },
      "cell_type": "code",
      "source": [
        "type(11)"
      ],
      "execution_count": 0,
      "outputs": [
        {
          "output_type": "execute_result",
          "data": {
            "text/plain": [
              "int"
            ]
          },
          "metadata": {
            "tags": []
          },
          "execution_count": 25
        }
      ]
    },
    {
      "metadata": {
        "id": "SllWpHq8e4tz",
        "colab_type": "code",
        "outputId": "2c00cf30-1220-4934-fc85-085e05f3d159",
        "colab": {}
      },
      "cell_type": "code",
      "source": [
        "int('50')"
      ],
      "execution_count": 0,
      "outputs": [
        {
          "output_type": "execute_result",
          "data": {
            "text/plain": [
              "50"
            ]
          },
          "metadata": {
            "tags": []
          },
          "execution_count": 26
        }
      ]
    },
    {
      "metadata": {
        "id": "VMl7Xmuqe4t3",
        "colab_type": "code",
        "outputId": "3d0b3509-ba47-44a8-e2b0-4c303c100860",
        "colab": {}
      },
      "cell_type": "code",
      "source": [
        "int(2.9997)"
      ],
      "execution_count": 0,
      "outputs": [
        {
          "output_type": "execute_result",
          "data": {
            "text/plain": [
              "2"
            ]
          },
          "metadata": {
            "tags": []
          },
          "execution_count": 27
        }
      ]
    },
    {
      "metadata": {
        "id": "RN-kGtRLe4t7",
        "colab_type": "code",
        "outputId": "849a3546-08a7-4754-8fe8-e2902d4b8904",
        "colab": {}
      },
      "cell_type": "code",
      "source": [
        "int(-3.6)"
      ],
      "execution_count": 0,
      "outputs": [
        {
          "output_type": "execute_result",
          "data": {
            "text/plain": [
              "-3"
            ]
          },
          "metadata": {
            "tags": []
          },
          "execution_count": 28
        }
      ]
    },
    {
      "metadata": {
        "id": "vWcinFJ8e4t-",
        "colab_type": "code",
        "outputId": "1ee74bdb-0a9c-438e-d16d-074f0bd52e4e",
        "colab": {}
      },
      "cell_type": "code",
      "source": [
        "float(45)"
      ],
      "execution_count": 0,
      "outputs": [
        {
          "output_type": "execute_result",
          "data": {
            "text/plain": [
              "45.0"
            ]
          },
          "metadata": {
            "tags": []
          },
          "execution_count": 29
        }
      ]
    },
    {
      "metadata": {
        "id": "VPqFxFtXe4uE",
        "colab_type": "code",
        "outputId": "36b0b30a-978b-4d67-9cda-f1c1f2ab9a2d",
        "colab": {}
      },
      "cell_type": "code",
      "source": [
        "float('3.345')"
      ],
      "execution_count": 0,
      "outputs": [
        {
          "output_type": "execute_result",
          "data": {
            "text/plain": [
              "3.345"
            ]
          },
          "metadata": {
            "tags": []
          },
          "execution_count": 30
        }
      ]
    },
    {
      "metadata": {
        "id": "-4sQaxzqe4uL",
        "colab_type": "code",
        "outputId": "ead1ab40-8250-410c-f295-1df31a60acfa",
        "colab": {}
      },
      "cell_type": "code",
      "source": [
        "str(23)"
      ],
      "execution_count": 0,
      "outputs": [
        {
          "output_type": "execute_result",
          "data": {
            "text/plain": [
              "'23'"
            ]
          },
          "metadata": {
            "tags": []
          },
          "execution_count": 31
        }
      ]
    },
    {
      "metadata": {
        "id": "ceco_5_He4uQ",
        "colab_type": "code",
        "outputId": "5065091d-4cc1-4c1b-a286-5d0733a780ed",
        "colab": {}
      },
      "cell_type": "code",
      "source": [
        "str(2.09)"
      ],
      "execution_count": 0,
      "outputs": [
        {
          "output_type": "execute_result",
          "data": {
            "text/plain": [
              "'2.09'"
            ]
          },
          "metadata": {
            "tags": []
          },
          "execution_count": 32
        }
      ]
    },
    {
      "metadata": {
        "id": "euZSYa0ke4uX",
        "colab_type": "code",
        "colab": {}
      },
      "cell_type": "code",
      "source": [
        "import math"
      ],
      "execution_count": 0,
      "outputs": []
    },
    {
      "metadata": {
        "id": "NttRSR8Fe4ub",
        "colab_type": "code",
        "outputId": "8f40daf6-3e5a-4955-cb27-8e2e518ba1f6",
        "colab": {}
      },
      "cell_type": "code",
      "source": [
        "math"
      ],
      "execution_count": 0,
      "outputs": [
        {
          "output_type": "execute_result",
          "data": {
            "text/plain": [
              "<module 'math' from '/anaconda3/lib/python3.7/lib-dynload/math.cpython-37m-darwin.so'>"
            ]
          },
          "metadata": {
            "tags": []
          },
          "execution_count": 34
        }
      ]
    },
    {
      "metadata": {
        "id": "iEpyg4eSe4ug",
        "colab_type": "code",
        "colab": {}
      },
      "cell_type": "code",
      "source": [
        "radians=0.98"
      ],
      "execution_count": 0,
      "outputs": []
    },
    {
      "metadata": {
        "id": "SFvp8TQ4e4uk",
        "colab_type": "code",
        "colab": {}
      },
      "cell_type": "code",
      "source": [
        "height=math.sin(0.98)"
      ],
      "execution_count": 0,
      "outputs": []
    },
    {
      "metadata": {
        "id": "5tg6VQpje4um",
        "colab_type": "code",
        "colab": {}
      },
      "cell_type": "code",
      "source": [
        "degrees=60"
      ],
      "execution_count": 0,
      "outputs": []
    },
    {
      "metadata": {
        "id": "jR6z_nmde4uq",
        "colab_type": "code",
        "colab": {}
      },
      "cell_type": "code",
      "source": [
        "diameter=degrees/360.0*math.pi"
      ],
      "execution_count": 0,
      "outputs": []
    },
    {
      "metadata": {
        "id": "ezynHoKae4us",
        "colab_type": "code",
        "outputId": "6de51e59-38f3-4265-b39b-eb49782afa1f",
        "colab": {}
      },
      "cell_type": "code",
      "source": [
        "math.sin(diameter/2)"
      ],
      "execution_count": 0,
      "outputs": [
        {
          "output_type": "execute_result",
          "data": {
            "text/plain": [
              "0.25881904510252074"
            ]
          },
          "metadata": {
            "tags": []
          },
          "execution_count": 39
        }
      ]
    },
    {
      "metadata": {
        "id": "hfZO8ZNue4uw",
        "colab_type": "code",
        "colab": {}
      },
      "cell_type": "code",
      "source": [
        "def berry():\n",
        "    print('I hate xiaoming!')\n",
        "    print('I want to leave alone')"
      ],
      "execution_count": 0,
      "outputs": []
    },
    {
      "metadata": {
        "id": "lajFguboe4uz",
        "colab_type": "code",
        "outputId": "0aa35c85-94e9-4c1d-ff83-763e19a1a8bf",
        "colab": {}
      },
      "cell_type": "code",
      "source": [
        "print(berry)"
      ],
      "execution_count": 0,
      "outputs": [
        {
          "output_type": "stream",
          "text": [
            "<function berry at 0x10d66fb70>\n"
          ],
          "name": "stdout"
        }
      ]
    },
    {
      "metadata": {
        "id": "atNB8Kdme4u3",
        "colab_type": "code",
        "outputId": "f2e41fb4-5bb1-4aa3-98af-850cc94e5ae5",
        "colab": {}
      },
      "cell_type": "code",
      "source": [
        "berry()"
      ],
      "execution_count": 0,
      "outputs": [
        {
          "output_type": "stream",
          "text": [
            "I hate xiaoming!\n",
            "I want to leave alone\n"
          ],
          "name": "stdout"
        }
      ]
    },
    {
      "metadata": {
        "id": "GB_uu7nGe4vH",
        "colab_type": "code",
        "colab": {}
      },
      "cell_type": "code",
      "source": [
        "def eggrolls():\n",
        "    print('I am coconut flavor!')\n",
        "    print('so crispy!')"
      ],
      "execution_count": 0,
      "outputs": []
    },
    {
      "metadata": {
        "id": "ABewaudwe4vJ",
        "colab_type": "code",
        "outputId": "3906f3f4-4963-4190-ad34-5ab22776d51f",
        "colab": {}
      },
      "cell_type": "code",
      "source": [
        "eggrolls()"
      ],
      "execution_count": 0,
      "outputs": [
        {
          "output_type": "stream",
          "text": [
            "I am coconut flavor!\n",
            "so crispy!\n"
          ],
          "name": "stdout"
        }
      ]
    },
    {
      "metadata": {
        "id": "LeAg9uYTe4vM",
        "colab_type": "code",
        "colab": {}
      },
      "cell_type": "code",
      "source": [
        "def print_three_times(n):\n",
        "    space=' '*2\n",
        "    print(n,space,n,space,n)\n"
      ],
      "execution_count": 0,
      "outputs": []
    },
    {
      "metadata": {
        "id": "NHOlfGDze4vO",
        "colab_type": "code",
        "colab": {}
      },
      "cell_type": "code",
      "source": [
        "n='milk'"
      ],
      "execution_count": 0,
      "outputs": []
    },
    {
      "metadata": {
        "id": "XfykGJaWe4vR",
        "colab_type": "code",
        "outputId": "0e2c62fe-ae61-4ebd-9e21-178ab97dc2f3",
        "colab": {}
      },
      "cell_type": "code",
      "source": [
        "print_three_times(n)"
      ],
      "execution_count": 0,
      "outputs": [
        {
          "output_type": "stream",
          "text": [
            "milk    milk    milk\n"
          ],
          "name": "stdout"
        }
      ]
    },
    {
      "metadata": {
        "id": "jCofR31re4vV",
        "colab_type": "code",
        "colab": {}
      },
      "cell_type": "code",
      "source": [
        "def menu(a,b,c):\n",
        "    pack=a+b+c\n",
        "    print_three_times(pack)"
      ],
      "execution_count": 0,
      "outputs": []
    },
    {
      "metadata": {
        "id": "Nz1Egzare4vX",
        "colab_type": "code",
        "colab": {}
      },
      "cell_type": "code",
      "source": [
        "part1='applejuice '"
      ],
      "execution_count": 0,
      "outputs": []
    },
    {
      "metadata": {
        "id": "F6bLlLlne4vZ",
        "colab_type": "code",
        "colab": {}
      },
      "cell_type": "code",
      "source": [
        "part2='cinnamon '"
      ],
      "execution_count": 0,
      "outputs": []
    },
    {
      "metadata": {
        "id": "6TKUDekWe4vb",
        "colab_type": "code",
        "colab": {}
      },
      "cell_type": "code",
      "source": [
        "part3='blueberry'"
      ],
      "execution_count": 0,
      "outputs": []
    },
    {
      "metadata": {
        "id": "sUnMtQgbe4vd",
        "colab_type": "code",
        "outputId": "ee462115-0179-412c-ddb8-007d182f4fe2",
        "colab": {}
      },
      "cell_type": "code",
      "source": [
        "menu(part1,part2,part3)"
      ],
      "execution_count": 0,
      "outputs": [
        {
          "output_type": "stream",
          "text": [
            "applejuice cinnamon blueberry    applejuice cinnamon blueberry    applejuice cinnamon blueberry\n"
          ],
          "name": "stdout"
        }
      ]
    },
    {
      "metadata": {
        "id": "-zYc1UY0e4vg",
        "colab_type": "code",
        "outputId": "eaefbd95-6ae9-493a-ce71-befb3bb4d754",
        "colab": {}
      },
      "cell_type": "code",
      "source": [
        "math.sqrt(10)"
      ],
      "execution_count": 0,
      "outputs": [
        {
          "output_type": "execute_result",
          "data": {
            "text/plain": [
              "3.1622776601683795"
            ]
          },
          "metadata": {
            "tags": []
          },
          "execution_count": 58
        }
      ]
    },
    {
      "metadata": {
        "id": "eiIVUjgfe4vk",
        "colab_type": "code",
        "outputId": "bc5e472d-5679-4609-d424-a1d4a2eb7092",
        "colab": {}
      },
      "cell_type": "code",
      "source": [
        "print(type(True))"
      ],
      "execution_count": 0,
      "outputs": [
        {
          "output_type": "stream",
          "text": [
            "<class 'bool'>\n"
          ],
          "name": "stdout"
        }
      ]
    },
    {
      "metadata": {
        "id": "SMrPfdrHe4vv",
        "colab_type": "code",
        "colab": {}
      },
      "cell_type": "code",
      "source": [
        "import turtle"
      ],
      "execution_count": 0,
      "outputs": []
    },
    {
      "metadata": {
        "id": "INRhDTx0e4vy",
        "colab_type": "code",
        "colab": {}
      },
      "cell_type": "code",
      "source": [
        "b=turtle.Turtle()"
      ],
      "execution_count": 0,
      "outputs": []
    },
    {
      "metadata": {
        "id": "96ln32xDe4v2",
        "colab_type": "code",
        "colab": {}
      },
      "cell_type": "code",
      "source": [
        "b.fd(200)"
      ],
      "execution_count": 0,
      "outputs": []
    },
    {
      "metadata": {
        "id": "taPlY8oie4v5",
        "colab_type": "code",
        "colab": {}
      },
      "cell_type": "code",
      "source": [
        "b.lt(45)"
      ],
      "execution_count": 0,
      "outputs": []
    },
    {
      "metadata": {
        "id": "RW5tYhuoe4v7",
        "colab_type": "code",
        "colab": {}
      },
      "cell_type": "code",
      "source": [
        "b.fd(100)"
      ],
      "execution_count": 0,
      "outputs": []
    },
    {
      "metadata": {
        "id": "blzvFou8e4v-",
        "colab_type": "code",
        "colab": {}
      },
      "cell_type": "code",
      "source": [
        "b.lt(135)"
      ],
      "execution_count": 0,
      "outputs": []
    },
    {
      "metadata": {
        "id": "1khIWSQNe4wA",
        "colab_type": "code",
        "colab": {}
      },
      "cell_type": "code",
      "source": [
        "b.fd(100)"
      ],
      "execution_count": 0,
      "outputs": []
    },
    {
      "metadata": {
        "id": "dfP-gyS6e4wB",
        "colab_type": "code",
        "colab": {}
      },
      "cell_type": "code",
      "source": [
        "b.fd(100)"
      ],
      "execution_count": 0,
      "outputs": []
    },
    {
      "metadata": {
        "id": "ORRnZpQNe4wH",
        "colab_type": "code",
        "colab": {}
      },
      "cell_type": "code",
      "source": [
        "b.lt(45)"
      ],
      "execution_count": 0,
      "outputs": []
    },
    {
      "metadata": {
        "id": "orpA4bL_e4wM",
        "colab_type": "code",
        "colab": {}
      },
      "cell_type": "code",
      "source": [
        "b.fd(100)"
      ],
      "execution_count": 0,
      "outputs": []
    },
    {
      "metadata": {
        "id": "V1Alcklee4wO",
        "colab_type": "code",
        "colab": {}
      },
      "cell_type": "code",
      "source": [
        "turtle.mainloop()"
      ],
      "execution_count": 0,
      "outputs": []
    },
    {
      "metadata": {
        "id": "jKhhqIJje4wQ",
        "colab_type": "code",
        "outputId": "46811e69-efd2-4f0e-928f-81e345b2434b",
        "colab": {}
      },
      "cell_type": "code",
      "source": [
        "for i in range(5):\n",
        "    print('Good!')"
      ],
      "execution_count": 0,
      "outputs": [
        {
          "output_type": "stream",
          "text": [
            "Good!\n",
            "Good!\n",
            "Good!\n",
            "Good!\n",
            "Good!\n"
          ],
          "name": "stdout"
        }
      ]
    },
    {
      "metadata": {
        "id": "fXpFSEVUe4wU",
        "colab_type": "code",
        "colab": {}
      },
      "cell_type": "code",
      "source": [
        "import turtle"
      ],
      "execution_count": 0,
      "outputs": []
    },
    {
      "metadata": {
        "id": "SEldCx5pe4wV",
        "colab_type": "code",
        "colab": {}
      },
      "cell_type": "code",
      "source": [
        "po=turtle.Turtle()"
      ],
      "execution_count": 0,
      "outputs": []
    },
    {
      "metadata": {
        "id": "rlJZAJo8e4wX",
        "colab_type": "code",
        "colab": {}
      },
      "cell_type": "code",
      "source": [
        "def image(t):\n",
        "    for i in range(10):\n",
        "        t.fd(30)\n",
        "        t.lt(30)\n",
        "        t.bk(30)\n",
        "        t.rt(30)"
      ],
      "execution_count": 0,
      "outputs": []
    },
    {
      "metadata": {
        "id": "qiLAfLR1e4wZ",
        "colab_type": "code",
        "colab": {}
      },
      "cell_type": "code",
      "source": [
        "image(po)"
      ],
      "execution_count": 0,
      "outputs": []
    },
    {
      "metadata": {
        "id": "87W-4N49e4wc",
        "colab_type": "code",
        "colab": {}
      },
      "cell_type": "code",
      "source": [
        "turtle.mainloop()"
      ],
      "execution_count": 0,
      "outputs": []
    },
    {
      "metadata": {
        "id": "57F5QVW_e4wd",
        "colab_type": "code",
        "colab": {}
      },
      "cell_type": "code",
      "source": [
        "hours=3.7"
      ],
      "execution_count": 0,
      "outputs": []
    },
    {
      "metadata": {
        "id": "4QkAGtwye4wf",
        "colab_type": "code",
        "colab": {}
      },
      "cell_type": "code",
      "source": [
        "minutes=hours*60"
      ],
      "execution_count": 0,
      "outputs": []
    },
    {
      "metadata": {
        "id": "qKZ4mLNse4wh",
        "colab_type": "code",
        "outputId": "3b801c13-2789-4d75-a193-c37f1033bdb9",
        "colab": {}
      },
      "cell_type": "code",
      "source": [
        "minutes"
      ],
      "execution_count": 0,
      "outputs": [
        {
          "output_type": "execute_result",
          "data": {
            "text/plain": [
              "222.0"
            ]
          },
          "metadata": {
            "tags": []
          },
          "execution_count": 103
        }
      ]
    },
    {
      "metadata": {
        "id": "8PtiX-EQe4wj",
        "colab_type": "code",
        "colab": {}
      },
      "cell_type": "code",
      "source": [
        "sugar=60"
      ],
      "execution_count": 0,
      "outputs": []
    },
    {
      "metadata": {
        "id": "ng7eWYXTe4wk",
        "colab_type": "code",
        "colab": {}
      },
      "cell_type": "code",
      "source": [
        "brown_sugar=sugar//7"
      ],
      "execution_count": 0,
      "outputs": []
    },
    {
      "metadata": {
        "id": "BJzFntBqe4wm",
        "colab_type": "code",
        "outputId": "83f3bed6-c3b9-4dbe-fbd0-31c06e962125",
        "colab": {}
      },
      "cell_type": "code",
      "source": [
        "brown_sugar"
      ],
      "execution_count": 0,
      "outputs": [
        {
          "output_type": "execute_result",
          "data": {
            "text/plain": [
              "8"
            ]
          },
          "metadata": {
            "tags": []
          },
          "execution_count": 106
        }
      ]
    },
    {
      "metadata": {
        "id": "VL2pWEpXe4wo",
        "colab_type": "code",
        "colab": {}
      },
      "cell_type": "code",
      "source": [
        "remainder=sugar-brown_sugar*7"
      ],
      "execution_count": 0,
      "outputs": []
    },
    {
      "metadata": {
        "id": "oCYzN6V2e4wp",
        "colab_type": "code",
        "outputId": "c1a976c1-1d93-4ef6-e4b0-6aeb4dc5830a",
        "colab": {}
      },
      "cell_type": "code",
      "source": [
        "remainder"
      ],
      "execution_count": 0,
      "outputs": [
        {
          "output_type": "execute_result",
          "data": {
            "text/plain": [
              "4"
            ]
          },
          "metadata": {
            "tags": []
          },
          "execution_count": 108
        }
      ]
    },
    {
      "metadata": {
        "id": "y8oYIg3pe4ws",
        "colab_type": "code",
        "colab": {}
      },
      "cell_type": "code",
      "source": [
        "remainder=sugar%7"
      ],
      "execution_count": 0,
      "outputs": []
    },
    {
      "metadata": {
        "id": "lpJJuVCZe4wt",
        "colab_type": "code",
        "outputId": "c359a9b2-ff5b-46d4-f345-62369f5404c4",
        "colab": {}
      },
      "cell_type": "code",
      "source": [
        "remainder"
      ],
      "execution_count": 0,
      "outputs": [
        {
          "output_type": "execute_result",
          "data": {
            "text/plain": [
              "4"
            ]
          },
          "metadata": {
            "tags": []
          },
          "execution_count": 110
        }
      ]
    },
    {
      "metadata": {
        "id": "FSbhTtmKe4ww",
        "colab_type": "code",
        "outputId": "ca2ecaf0-3fb4-457a-e420-5a04ecb3d0a1",
        "colab": {}
      },
      "cell_type": "code",
      "source": [
        "8==9"
      ],
      "execution_count": 0,
      "outputs": [
        {
          "output_type": "execute_result",
          "data": {
            "text/plain": [
              "False"
            ]
          },
          "metadata": {
            "tags": []
          },
          "execution_count": 111
        }
      ]
    },
    {
      "metadata": {
        "id": "8s3xD3xge4wy",
        "colab_type": "code",
        "outputId": "821ef2cb-0d4a-4b7e-d82a-2596aefa8e4a",
        "colab": {}
      },
      "cell_type": "code",
      "source": [
        "8==8"
      ],
      "execution_count": 0,
      "outputs": [
        {
          "output_type": "execute_result",
          "data": {
            "text/plain": [
              "True"
            ]
          },
          "metadata": {
            "tags": []
          },
          "execution_count": 112
        }
      ]
    },
    {
      "metadata": {
        "id": "TDvUIedve4w0",
        "colab_type": "code",
        "outputId": "49a36bbc-5ee5-4cd1-8dad-44ff0ea55484",
        "colab": {}
      },
      "cell_type": "code",
      "source": [
        "type(True)"
      ],
      "execution_count": 0,
      "outputs": [
        {
          "output_type": "execute_result",
          "data": {
            "text/plain": [
              "bool"
            ]
          },
          "metadata": {
            "tags": []
          },
          "execution_count": 113
        }
      ]
    },
    {
      "metadata": {
        "id": "LCb_n5h_e4w3",
        "colab_type": "code",
        "outputId": "b3392f0f-417b-4414-817c-916c70ebe991",
        "colab": {}
      },
      "cell_type": "code",
      "source": [
        "type(False)"
      ],
      "execution_count": 0,
      "outputs": [
        {
          "output_type": "execute_result",
          "data": {
            "text/plain": [
              "bool"
            ]
          },
          "metadata": {
            "tags": []
          },
          "execution_count": 114
        }
      ]
    },
    {
      "metadata": {
        "id": "M72Q0NVLe4w5",
        "colab_type": "code",
        "outputId": "3a029030-0cc5-4415-9cca-a569c24f92d8",
        "colab": {}
      },
      "cell_type": "code",
      "source": [
        "text=input()"
      ],
      "execution_count": 0,
      "outputs": [
        {
          "output_type": "stream",
          "text": [
            "\n"
          ],
          "name": "stdout"
        }
      ]
    },
    {
      "metadata": {
        "id": "Z30MRhGVe4w-",
        "colab_type": "code",
        "outputId": "983c1eff-141f-4c01-f32f-1d339e2840d3",
        "colab": {}
      },
      "cell_type": "code",
      "source": [
        "text"
      ],
      "execution_count": 0,
      "outputs": [
        {
          "output_type": "execute_result",
          "data": {
            "text/plain": [
              "''"
            ]
          },
          "metadata": {
            "tags": []
          },
          "execution_count": 116
        }
      ]
    },
    {
      "metadata": {
        "id": "7FzYR0qTe4xC",
        "colab_type": "code",
        "outputId": "5ff990f9-60df-48f5-d045-99a276cdfbe1",
        "colab": {}
      },
      "cell_type": "code",
      "source": [
        "sentence=input('what do you do?\\n')"
      ],
      "execution_count": 0,
      "outputs": [
        {
          "output_type": "stream",
          "text": [
            "what do you do?\n",
            "\n"
          ],
          "name": "stdout"
        }
      ]
    },
    {
      "metadata": {
        "id": "zBewAPjye4xE",
        "colab_type": "code",
        "outputId": "511e2160-04ef-489f-8c82-536d230c2ec9",
        "colab": {}
      },
      "cell_type": "code",
      "source": [
        "sentence"
      ],
      "execution_count": 0,
      "outputs": [
        {
          "output_type": "execute_result",
          "data": {
            "text/plain": [
              "''"
            ]
          },
          "metadata": {
            "tags": []
          },
          "execution_count": 118
        }
      ]
    },
    {
      "metadata": {
        "id": "lEGJXQtWe4xL",
        "colab_type": "code",
        "colab": {}
      },
      "cell_type": "code",
      "source": [
        "import math"
      ],
      "execution_count": 0,
      "outputs": []
    },
    {
      "metadata": {
        "id": "6OU4aJ2Me4xO",
        "colab_type": "code",
        "colab": {}
      },
      "cell_type": "code",
      "source": [
        "def radius(xm,ym,zm,xp,yp,zp):\n",
        "    dx=xm-xp\n",
        "    dy=ym-yp\n",
        "    dz=zm-zp\n",
        "    desquared=dx**2+dy**2+dz**2\n",
        "    result=math.sqrt(desquared)\n",
        "    return result\n",
        "    "
      ],
      "execution_count": 0,
      "outputs": []
    },
    {
      "metadata": {
        "id": "eFggC2KPe4xR",
        "colab_type": "code",
        "colab": {}
      },
      "cell_type": "code",
      "source": [
        "def sequare_area(xm,ym,zm,xp,yp,zp):\n",
        "    result=4*math.pi*(radius(xm,ym,zm,xp,yp,zp)**2)\n",
        "    return result\n",
        "    \n",
        "    \n",
        "    "
      ],
      "execution_count": 0,
      "outputs": []
    },
    {
      "metadata": {
        "id": "dxX_5xcje4xT",
        "colab_type": "code",
        "outputId": "22ecd5ce-2de7-42be-b8a6-b40bd5c1b0e7",
        "colab": {}
      },
      "cell_type": "code",
      "source": [
        "sequare_area(2,3,4,5,6,7)"
      ],
      "execution_count": 0,
      "outputs": [
        {
          "output_type": "execute_result",
          "data": {
            "text/plain": [
              "339.29200658769764"
            ]
          },
          "metadata": {
            "tags": []
          },
          "execution_count": 122
        }
      ]
    },
    {
      "metadata": {
        "id": "xpuSBG6be4xY",
        "colab_type": "code",
        "colab": {}
      },
      "cell_type": "code",
      "source": [
        "def is_divisible(x,y):\n",
        "    if x%y==1:\n",
        "        return True\n",
        "    else:\n",
        "        return False\n",
        "    "
      ],
      "execution_count": 0,
      "outputs": []
    },
    {
      "metadata": {
        "id": "0DO9a1fRe4xd",
        "colab_type": "code",
        "outputId": "582c359a-3294-4341-b644-5c95e9e27eb7",
        "colab": {}
      },
      "cell_type": "code",
      "source": [
        "is_divisible(3,1)"
      ],
      "execution_count": 0,
      "outputs": [
        {
          "output_type": "execute_result",
          "data": {
            "text/plain": [
              "False"
            ]
          },
          "metadata": {
            "tags": []
          },
          "execution_count": 126
        }
      ]
    },
    {
      "metadata": {
        "id": "72-mUvLUe4xg",
        "colab_type": "code",
        "colab": {}
      },
      "cell_type": "code",
      "source": [
        "def termin(n):\n",
        "    if n==0:\n",
        "        return 1\n",
        "    elif n==1:\n",
        "        return 1\n",
        "    elif n<0:\n",
        "        return None\n",
        "    else:\n",
        "        return n(http(n-1))"
      ],
      "execution_count": 0,
      "outputs": []
    },
    {
      "metadata": {
        "id": "GnGFERTfe4xi",
        "colab_type": "code",
        "outputId": "1f62250e-2923-42e9-a178-23e4faa97871",
        "colab": {}
      },
      "cell_type": "code",
      "source": [
        "termin(1)"
      ],
      "execution_count": 0,
      "outputs": [
        {
          "output_type": "execute_result",
          "data": {
            "text/plain": [
              "1"
            ]
          },
          "metadata": {
            "tags": []
          },
          "execution_count": 156
        }
      ]
    },
    {
      "metadata": {
        "id": "oVwqZDHYe4xk",
        "colab_type": "code",
        "outputId": "f0f5d400-602d-4afd-9f06-8768b392454f",
        "colab": {}
      },
      "cell_type": "code",
      "source": [
        "termin(0)"
      ],
      "execution_count": 0,
      "outputs": [
        {
          "output_type": "execute_result",
          "data": {
            "text/plain": [
              "1"
            ]
          },
          "metadata": {
            "tags": []
          },
          "execution_count": 157
        }
      ]
    },
    {
      "metadata": {
        "id": "Cls5zI_me4xm",
        "colab_type": "code",
        "colab": {}
      },
      "cell_type": "code",
      "source": [
        "termin(-3)"
      ],
      "execution_count": 0,
      "outputs": []
    },
    {
      "metadata": {
        "id": "SnIC2OG4e4xp",
        "colab_type": "code",
        "outputId": "19f014af-5ef3-43c5-bdef-5f3a24554c8a",
        "colab": {}
      },
      "cell_type": "code",
      "source": [
        "termin(7)"
      ],
      "execution_count": 0,
      "outputs": [
        {
          "output_type": "error",
          "ename": "TypeError",
          "evalue": "'int' object is not callable",
          "traceback": [
            "\u001b[0;31m---------------------------------------------------------------------------\u001b[0m",
            "\u001b[0;31mTypeError\u001b[0m                                 Traceback (most recent call last)",
            "\u001b[0;32m<ipython-input-159-abd3b920f024>\u001b[0m in \u001b[0;36m<module>\u001b[0;34m\u001b[0m\n\u001b[0;32m----> 1\u001b[0;31m \u001b[0mtermin\u001b[0m\u001b[0;34m(\u001b[0m\u001b[0;36m7\u001b[0m\u001b[0;34m)\u001b[0m\u001b[0;34m\u001b[0m\u001b[0;34m\u001b[0m\u001b[0m\n\u001b[0m",
            "\u001b[0;32m<ipython-input-155-4623ea4c0915>\u001b[0m in \u001b[0;36mtermin\u001b[0;34m(n)\u001b[0m\n\u001b[1;32m      7\u001b[0m         \u001b[0;32mreturn\u001b[0m \u001b[0;32mNone\u001b[0m\u001b[0;34m\u001b[0m\u001b[0;34m\u001b[0m\u001b[0m\n\u001b[1;32m      8\u001b[0m     \u001b[0;32melse\u001b[0m\u001b[0;34m:\u001b[0m\u001b[0;34m\u001b[0m\u001b[0;34m\u001b[0m\u001b[0m\n\u001b[0;32m----> 9\u001b[0;31m         \u001b[0;32mreturn\u001b[0m \u001b[0mn\u001b[0m\u001b[0;34m(\u001b[0m\u001b[0mhttp\u001b[0m\u001b[0;34m(\u001b[0m\u001b[0mn\u001b[0m\u001b[0;34m-\u001b[0m\u001b[0;36m1\u001b[0m\u001b[0;34m)\u001b[0m\u001b[0;34m)\u001b[0m\u001b[0;34m\u001b[0m\u001b[0;34m\u001b[0m\u001b[0m\n\u001b[0m",
            "\u001b[0;32m<ipython-input-151-3a5cb104c1f7>\u001b[0m in \u001b[0;36mhttp\u001b[0;34m(n)\u001b[0m\n\u001b[1;32m      7\u001b[0m         \u001b[0;32mreturn\u001b[0m \u001b[0;32mNone\u001b[0m\u001b[0;34m\u001b[0m\u001b[0;34m\u001b[0m\u001b[0m\n\u001b[1;32m      8\u001b[0m     \u001b[0;32melse\u001b[0m\u001b[0;34m:\u001b[0m\u001b[0;34m\u001b[0m\u001b[0;34m\u001b[0m\u001b[0m\n\u001b[0;32m----> 9\u001b[0;31m         \u001b[0;32mreturn\u001b[0m \u001b[0mn\u001b[0m\u001b[0;34m(\u001b[0m\u001b[0mhttp\u001b[0m\u001b[0;34m(\u001b[0m\u001b[0mn\u001b[0m\u001b[0;34m-\u001b[0m\u001b[0;36m1\u001b[0m\u001b[0;34m)\u001b[0m\u001b[0;34m)\u001b[0m\u001b[0;34m\u001b[0m\u001b[0;34m\u001b[0m\u001b[0m\n\u001b[0m",
            "\u001b[0;32m<ipython-input-151-3a5cb104c1f7>\u001b[0m in \u001b[0;36mhttp\u001b[0;34m(n)\u001b[0m\n\u001b[1;32m      7\u001b[0m         \u001b[0;32mreturn\u001b[0m \u001b[0;32mNone\u001b[0m\u001b[0;34m\u001b[0m\u001b[0;34m\u001b[0m\u001b[0m\n\u001b[1;32m      8\u001b[0m     \u001b[0;32melse\u001b[0m\u001b[0;34m:\u001b[0m\u001b[0;34m\u001b[0m\u001b[0;34m\u001b[0m\u001b[0m\n\u001b[0;32m----> 9\u001b[0;31m         \u001b[0;32mreturn\u001b[0m \u001b[0mn\u001b[0m\u001b[0;34m(\u001b[0m\u001b[0mhttp\u001b[0m\u001b[0;34m(\u001b[0m\u001b[0mn\u001b[0m\u001b[0;34m-\u001b[0m\u001b[0;36m1\u001b[0m\u001b[0;34m)\u001b[0m\u001b[0;34m)\u001b[0m\u001b[0;34m\u001b[0m\u001b[0;34m\u001b[0m\u001b[0m\n\u001b[0m",
            "\u001b[0;32m<ipython-input-151-3a5cb104c1f7>\u001b[0m in \u001b[0;36mhttp\u001b[0;34m(n)\u001b[0m\n\u001b[1;32m      7\u001b[0m         \u001b[0;32mreturn\u001b[0m \u001b[0;32mNone\u001b[0m\u001b[0;34m\u001b[0m\u001b[0;34m\u001b[0m\u001b[0m\n\u001b[1;32m      8\u001b[0m     \u001b[0;32melse\u001b[0m\u001b[0;34m:\u001b[0m\u001b[0;34m\u001b[0m\u001b[0;34m\u001b[0m\u001b[0m\n\u001b[0;32m----> 9\u001b[0;31m         \u001b[0;32mreturn\u001b[0m \u001b[0mn\u001b[0m\u001b[0;34m(\u001b[0m\u001b[0mhttp\u001b[0m\u001b[0;34m(\u001b[0m\u001b[0mn\u001b[0m\u001b[0;34m-\u001b[0m\u001b[0;36m1\u001b[0m\u001b[0;34m)\u001b[0m\u001b[0;34m)\u001b[0m\u001b[0;34m\u001b[0m\u001b[0;34m\u001b[0m\u001b[0m\n\u001b[0m",
            "\u001b[0;32m<ipython-input-151-3a5cb104c1f7>\u001b[0m in \u001b[0;36mhttp\u001b[0;34m(n)\u001b[0m\n\u001b[1;32m      7\u001b[0m         \u001b[0;32mreturn\u001b[0m \u001b[0;32mNone\u001b[0m\u001b[0;34m\u001b[0m\u001b[0;34m\u001b[0m\u001b[0m\n\u001b[1;32m      8\u001b[0m     \u001b[0;32melse\u001b[0m\u001b[0;34m:\u001b[0m\u001b[0;34m\u001b[0m\u001b[0;34m\u001b[0m\u001b[0m\n\u001b[0;32m----> 9\u001b[0;31m         \u001b[0;32mreturn\u001b[0m \u001b[0mn\u001b[0m\u001b[0;34m(\u001b[0m\u001b[0mhttp\u001b[0m\u001b[0;34m(\u001b[0m\u001b[0mn\u001b[0m\u001b[0;34m-\u001b[0m\u001b[0;36m1\u001b[0m\u001b[0;34m)\u001b[0m\u001b[0;34m)\u001b[0m\u001b[0;34m\u001b[0m\u001b[0;34m\u001b[0m\u001b[0m\n\u001b[0m",
            "\u001b[0;32m<ipython-input-151-3a5cb104c1f7>\u001b[0m in \u001b[0;36mhttp\u001b[0;34m(n)\u001b[0m\n\u001b[1;32m      7\u001b[0m         \u001b[0;32mreturn\u001b[0m \u001b[0;32mNone\u001b[0m\u001b[0;34m\u001b[0m\u001b[0;34m\u001b[0m\u001b[0m\n\u001b[1;32m      8\u001b[0m     \u001b[0;32melse\u001b[0m\u001b[0;34m:\u001b[0m\u001b[0;34m\u001b[0m\u001b[0;34m\u001b[0m\u001b[0m\n\u001b[0;32m----> 9\u001b[0;31m         \u001b[0;32mreturn\u001b[0m \u001b[0mn\u001b[0m\u001b[0;34m(\u001b[0m\u001b[0mhttp\u001b[0m\u001b[0;34m(\u001b[0m\u001b[0mn\u001b[0m\u001b[0;34m-\u001b[0m\u001b[0;36m1\u001b[0m\u001b[0;34m)\u001b[0m\u001b[0;34m)\u001b[0m\u001b[0;34m\u001b[0m\u001b[0;34m\u001b[0m\u001b[0m\n\u001b[0m",
            "\u001b[0;31mTypeError\u001b[0m: 'int' object is not callable"
          ]
        }
      ]
    },
    {
      "metadata": {
        "id": "q3y9cdxJe4xr",
        "colab_type": "code",
        "colab": {}
      },
      "cell_type": "code",
      "source": [
        "def countdown(m):\n",
        "    while m>3:\n",
        "        print(m)\n",
        "        m=m-1\n",
        "    print('over!')"
      ],
      "execution_count": 0,
      "outputs": []
    },
    {
      "metadata": {
        "id": "E-eqclUre4xt",
        "colab_type": "code",
        "outputId": "2597e00e-f48c-4524-df50-fa5f4f978d0f",
        "colab": {}
      },
      "cell_type": "code",
      "source": [
        "countdown(10)"
      ],
      "execution_count": 0,
      "outputs": [
        {
          "output_type": "stream",
          "text": [
            "10\n",
            "9\n",
            "8\n",
            "7\n",
            "6\n",
            "5\n",
            "4\n",
            "over!\n"
          ],
          "name": "stdout"
        }
      ]
    }
  ]
}